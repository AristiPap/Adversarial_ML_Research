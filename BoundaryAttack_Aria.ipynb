{
  "nbformat": 4,
  "nbformat_minor": 0,
  "metadata": {
    "colab": {
      "name": "BoundaryAttack_Aria.ipynb",
      "provenance": [],
      "collapsed_sections": [],
      "mount_file_id": "1C6dGRN7G9wFde6JpvHZT_Pk4YxAFSvba",
      "authorship_tag": "ABX9TyPJbRt9kvLj4HdJqUefgMaX",
      "include_colab_link": true
    },
    "kernelspec": {
      "name": "python3",
      "display_name": "Python 3"
    },
    "language_info": {
      "name": "python"
    }
  },
  "cells": [
    {
      "cell_type": "markdown",
      "metadata": {
        "id": "view-in-github",
        "colab_type": "text"
      },
      "source": [
        "<a href=\"https://colab.research.google.com/github/AristiPap/Thesis_Stuff/blob/main/BoundaryAttack_Aria.ipynb\" target=\"_parent\"><img src=\"https://colab.research.google.com/assets/colab-badge.svg\" alt=\"Open In Colab\"/></a>"
      ]
    },
    {
      "cell_type": "code",
      "metadata": {
        "id": "GuUWM_fjNaqc"
      },
      "source": [
        "from __future__ import print_function\n",
        "try:\n",
        "\traw_input\n",
        "except:\n",
        "\traw_input = input\n",
        "\n",
        "from tensorflow.keras import layers\n",
        "from tensorflow import keras\n",
        "import tensorflow as tf\n",
        "\n",
        "import tensorflow_datasets as tfds\n",
        "\n",
        "tfds.disable_progress_bar()\n",
        "\n",
        "import matplotlib.pyplot as plt\n",
        "import numpy as np\n",
        "\n",
        "\n",
        "\n",
        "import numpy as np\n",
        "import time\n",
        "import os\n",
        "from PIL import Image\n",
        "import sys\n",
        "from keras.preprocessing import image\n",
        "from tensorflow.keras.applications.resnet50 import ResNet50\n",
        "from tensorflow.keras.applications.resnet50 import preprocess_input, decode_predictions\n",
        "\n",
        "RESNET_MEAN = np.array([103.939, 116.779, 123.68])"
      ],
      "execution_count": 13,
      "outputs": []
    },
    {
      "cell_type": "code",
      "metadata": {
        "colab": {
          "base_uri": "https://localhost:8080/"
        },
        "id": "zHVkBfdKNlyP",
        "outputId": "4003e2be-df24-4503-9630-91817221b50c"
      },
      "source": [
        "from google.colab import drive\n",
        "drive.mount('/content/drive')"
      ],
      "execution_count": 14,
      "outputs": [
        {
          "output_type": "stream",
          "name": "stdout",
          "text": [
            "Drive already mounted at /content/drive; to attempt to forcibly remount, call drive.mount(\"/content/drive\", force_remount=True).\n"
          ]
        }
      ]
    },
    {
      "cell_type": "markdown",
      "metadata": {
        "id": "Zy0ZIghYtqBE"
      },
      "source": [
        "\n",
        "![](https://drive.google.com/uc?export=view&id=1YMexys51Bbmkb-JDdFF1AiKWOpot-SEE)\n"
      ]
    },
    {
      "cell_type": "markdown",
      "metadata": {
        "id": "P6EgURk0tRnP"
      },
      "source": [
        "![](https://drive.google.com/uc?export=view&1YMexys51Bbmkb-JDdFF1AiKWOpot-SEE)\n"
      ]
    },
    {
      "cell_type": "code",
      "source": [
        "def sphere_perturbation(delta, prev_sample, target_sample):\n",
        "    \"\"\"Generate orthogonal perturbation.\"\"\"\n",
        "    perturb = np.random.randn(1, 224, 224, 3)\n",
        "    perturb /= np.linalg.norm(perturb, axis=(1, 2))\n",
        "    perturb *= delta * np.mean(get_diff(target_sample, prev_sample))\n",
        "    # Project perturbation onto sphere around target\n",
        "    # Orthorgonal vector to sphere surface\n",
        "    diff = (target_sample - prev_sample).astype(np.float32)\n",
        "    diff /= get_diff(target_sample, prev_sample)  # Orthogonal unit vector\n",
        "    # We project onto the orthogonal then subtract from perturb\n",
        "    # to get projection onto sphere surface\n",
        "    perturb -= (np.vdot(perturb, diff) / np.linalg.norm(diff)**2) * diff\n",
        "    # Check overflow and underflow\n",
        "    overflow = (prev_sample + perturb) - 255 + RESNET_MEAN\n",
        "    perturb -= overflow * (overflow > 0)\n",
        "    underflow = -RESNET_MEAN\n",
        "    perturb += underflow * (underflow > 0)\n",
        "    return perturb"
      ],
      "metadata": {
        "id": "AZA1-ii3Rqhk"
      },
      "execution_count": 15,
      "outputs": []
    },
    {
      "cell_type": "code",
      "source": [
        "def forward_perturbation(epsilon, prev_sample, target_sample):\n",
        "    \"\"\"Generate forward perturbation.\"\"\"\n",
        "    perturb = (target_sample - prev_sample).astype(np.float32)\n",
        "    perturb /= get_diff(target_sample, prev_sample)\n",
        "    perturb *= epsilon\n",
        "    return perturb\n",
        "\n",
        "\n",
        "def get_converted_prediction(sample, classifier):\n",
        "    \"\"\"\n",
        "    The loss of precision often causes the label of the image to change, particularly\n",
        "    because we are very close to the boundary of the two classes.\n",
        "    This function checks for the label of the exported sample\n",
        "    by simulating the export process.\n",
        "    \"\"\"\n",
        "    sample = (sample + RESNET_MEAN).astype(np.uint8).astype(np.float32) - RESNET_MEAN\n",
        "    label = decode_predictions(classifier.predict(sample), top=1)[0][0][1]\n",
        "    return label\n",
        "\n",
        "\n",
        "def save_image(sample, classifier, folder):\n",
        "    \"\"\"Export image file.\"\"\"\n",
        "    label = get_converted_prediction(np.copy(sample), classifier)\n",
        "    sample = sample[0]\n",
        "    sample += RESNET_MEAN\n",
        "    sample = sample[..., ::-1].astype(np.uint8)\n",
        "    # Convert array to image and save\n",
        "    sample = Image.fromarray(sample)\n",
        "    id_no = time.strftime('%Y%m%d_%H%M%S', time.localtime())\n",
        "    # Save with predicted label for image (may not be adversarial due to uint8 conversion)\n",
        "    sample.save(os.path.join(\"/content/drive/MyDrive/my_boundary_attack/boundary-attack-master/images\", folder,\"{}_{}.png\".format(id_no, label)))\n",
        "\n",
        "#preprocessing with keras\n",
        "def preprocess(sample_path):\n",
        "    \"\"\"Load and preprocess image file.\"\"\"\n",
        "    img = image.load_img(sample_path, target_size=(224, 224))\n",
        "    x = image.img_to_array(img)\n",
        "    x = np.expand_dims(x, axis=0)\n",
        "    x = preprocess_input(x)\n",
        "    return x\n",
        "\n",
        "#keep mean error for each iteration\n",
        "def get_diff(sample_1, sample_2):\n",
        "    \"\"\"Channel-wise norm of difference between samples.\"\"\"\n",
        "    sample_1 = sample_1.reshape(3, 224, 224)\n",
        "    sample_2 = sample_2.reshape(3, 224, 224)\n",
        "    diff = []\n",
        "    for i, channel in enumerate(sample_1):\n",
        "      diff.append(np.linalg.norm((channel - sample_2[i]).astype(np.float32)))\n",
        "    return np.array(diff)\n",
        "    #return np.linalg.norm(sample_1 - sample_2, axis=(1, 2))"
      ],
      "metadata": {
        "id": "GODd6S2TS-dH"
      },
      "execution_count": 16,
      "outputs": []
    },
    {
      "cell_type": "code",
      "metadata": {
        "id": "j8-ep8iENU8p"
      },
      "source": [
        "def boundary_attack():\n",
        "    # Load model, images and other parameters\n",
        "    classifier = ResNet50(weights='imagenet')\n",
        "    initial_sample = preprocess('/content/drive/MyDrive/my_boundary_attack/boundary-attack-master/images/original/awkward_moment_seal.png')\n",
        "    target_sample = preprocess('/content/drive/MyDrive/my_boundary_attack/boundary-attack-master/images/original/bad_joke_eel.png')\n",
        "    folder = time.strftime('%Y%m%d_%H%M%S', time.localtime())\n",
        "    os.mkdir(os.path.join(\"/content/drive/MyDrive/my_boundary_attack/boundary-attack-master/images\", folder))\n",
        "    save_image(np.copy(initial_sample), classifier, folder)\n",
        "    #classifier initialised with our picture (in this case picture of seal that you can faintly see behind the eel when the attack is executed)\n",
        "    attack_class = np.argmax(classifier.predict(initial_sample))\n",
        "    #Our target image is the eel.The who,e point is to create an image that looks almost exactly like the eel but has pertrubations \"inspired by the eel\", \n",
        "    #so that it's misclassified\n",
        "    target_class = np.argmax(classifier.predict(target_sample))\n",
        "\n",
        "    adversarial_sample = initial_sample\n",
        "    n_steps = 0\n",
        "    n_calls = 0\n",
        "    epsilon = 1.\n",
        "    delta = 0.1\n",
        "\n",
        "    # Move first step to the boundary\n",
        "    # get first adversarial point to begin initiating the attack \n",
        "    while True:\n",
        "        trial_sample = adversarial_sample + forward_perturbation(epsilon * get_diff(adversarial_sample, target_sample), adversarial_sample, target_sample)#adversarial_sample + forward_perturbation(epsilon, adversarial_sample, target_sample)\n",
        "        prediction = classifier.predict(trial_sample.reshape(1, 224, 224, 3))#classifier.predict(trial_sample)\n",
        "        \n",
        "        n_calls += 1\n",
        "        if np.argmax(prediction) == attack_class:\n",
        "          adversarial_sample = trial_sample\n",
        "          break\n",
        "        else:\n",
        "          epsilon *= 0.9\n",
        "\n",
        "    # Iteratively run attack\n",
        "    while True:\n",
        "        print(\"Step #{}...\".format(n_steps))\n",
        "        # Orthogonal step\n",
        "        print(\"\\tDelta step...\")\n",
        "        d_step = 0\n",
        "        while True:\n",
        "            d_step += 1\n",
        "            print(\"\\t#{}\".format(d_step))\n",
        "            trial_samples = []\n",
        "            for i in np.arange(10):\n",
        "                trial_sample = adversarial_sample + sphere_perturbation(delta, adversarial_sample, target_sample)\n",
        "                trial_samples.append(trial_sample)\n",
        "            \n",
        "            trial_samples = np.asarray(trial_samples).reshape((-1,224,224,3))\n",
        "            predictions = classifier.predict(trial_samples)\n",
        "            n_calls += 10\n",
        "            predictions = np.argmax(predictions, axis=1)\n",
        "            d_score = np.mean(predictions == attack_class)\n",
        "            if d_score > 0.0:\n",
        "                if d_score < 0.3:\n",
        "                    delta *= 0.9\n",
        "                elif d_score > 0.7:\n",
        "                    delta /= 0.9\n",
        "                adversarial_sample = np.array(trial_samples)[np.where(predictions == attack_class)[0][0]]\n",
        "                break\n",
        "            else:\n",
        "                delta *= 0.9\n",
        "        # Forward step\n",
        "        print(\"\\tEpsilon step...\")\n",
        "        e_step = 0\n",
        "        while True:\n",
        "            e_step += 1\n",
        "            print(\"\\t#{}\".format(e_step))\n",
        "            trial_sample = adversarial_sample + forward_perturbation(epsilon, adversarial_sample, target_sample)\n",
        "            prediction = classifier.predict(trial_sample)\n",
        "            n_calls += 1\n",
        "            #adversarial step\n",
        "            if np.argmax(prediction) == attack_class:\n",
        "                adversarial_sample = trial_sample\n",
        "                epsilon /= 0.5\n",
        "                break\n",
        "            elif e_step > 500:\n",
        "                break\n",
        "            else:\n",
        "                epsilon *= 0.5\n",
        "\n",
        "        n_steps += 1\n",
        "        # keep some checkpoints so that we save the pictures whilst the attack progresses\n",
        "        chkpts = [250, 750]\n",
        "        if n_steps in chkpts:\n",
        "            print(\"{} steps\".format(n_steps))\n",
        "            save_image(np.copy(adversarial_sample), classifier, folder)\n",
        "        diff = np.mean(get_diff(adversarial_sample, target_sample))\n",
        "        #stop at 1000 steps ~= 40 minutes\n",
        "        if diff <= 1e-3 or e_step > 500 or n_steps > 1000:\n",
        "            print(\"{} steps\".format(n_steps))\n",
        "            print(\"Mean Squared Error: {}\".format(diff))\n",
        "            save_image(np.copy(adversarial_sample), classifier, folder)\n",
        "            break\n",
        "\n",
        "        print(\"Mean Squared Error: {}\".format(diff))\n",
        "        print(\"Calls: {}\".format(n_calls))\n",
        "        print(\"Attack Class: {}\".format(attack_class))\n",
        "        print(\"Target Class: {}\".format(target_class))\n",
        "        print(\"Adversarial Class: {}\".format(np.argmax(prediction)))"
      ],
      "execution_count": 23,
      "outputs": []
    },
    {
      "cell_type": "code",
      "source": [
        "if __name__ == \"__main__\":\n",
        "    boundary_attack()"
      ],
      "metadata": {
        "colab": {
          "base_uri": "https://localhost:8080/",
          "height": 573
        },
        "id": "2HQchEGiRjlV",
        "outputId": "0e97ac44-9e0e-44ea-f6c2-5262da09ab44"
      },
      "execution_count": 24,
      "outputs": [
        {
          "output_type": "stream",
          "name": "stdout",
          "text": [
            "Step #0...\n",
            "\tDelta step...\n",
            "\t#1\n",
            "\tEpsilon step...\n",
            "\t#1\n",
            "Mean Squared Error: 6706.3359375\n",
            "Calls: 16\n",
            "Attack Class: 150\n",
            "Target Class: 390\n",
            "Adversarial Class: 150\n",
            "Step #1...\n",
            "\tDelta step...\n",
            "\t#1\n",
            "\t#2\n"
          ]
        },
        {
          "output_type": "error",
          "ename": "KeyboardInterrupt",
          "evalue": "ignored",
          "traceback": [
            "\u001b[0;31m---------------------------------------------------------------------------\u001b[0m",
            "\u001b[0;31mKeyboardInterrupt\u001b[0m                         Traceback (most recent call last)",
            "\u001b[0;32m<ipython-input-24-64d912df3004>\u001b[0m in \u001b[0;36m<module>\u001b[0;34m()\u001b[0m\n\u001b[1;32m      1\u001b[0m \u001b[0;32mif\u001b[0m \u001b[0m__name__\u001b[0m \u001b[0;34m==\u001b[0m \u001b[0;34m\"__main__\"\u001b[0m\u001b[0;34m:\u001b[0m\u001b[0;34m\u001b[0m\u001b[0;34m\u001b[0m\u001b[0m\n\u001b[0;32m----> 2\u001b[0;31m     \u001b[0mboundary_attack\u001b[0m\u001b[0;34m(\u001b[0m\u001b[0;34m)\u001b[0m\u001b[0;34m\u001b[0m\u001b[0;34m\u001b[0m\u001b[0m\n\u001b[0m",
            "\u001b[0;32m<ipython-input-23-579bd7cb3c58>\u001b[0m in \u001b[0;36mboundary_attack\u001b[0;34m()\u001b[0m\n\u001b[1;32m     49\u001b[0m \u001b[0;34m\u001b[0m\u001b[0m\n\u001b[1;32m     50\u001b[0m             \u001b[0mtrial_samples\u001b[0m \u001b[0;34m=\u001b[0m \u001b[0mnp\u001b[0m\u001b[0;34m.\u001b[0m\u001b[0masarray\u001b[0m\u001b[0;34m(\u001b[0m\u001b[0mtrial_samples\u001b[0m\u001b[0;34m)\u001b[0m\u001b[0;34m.\u001b[0m\u001b[0mreshape\u001b[0m\u001b[0;34m(\u001b[0m\u001b[0;34m(\u001b[0m\u001b[0;34m-\u001b[0m\u001b[0;36m1\u001b[0m\u001b[0;34m,\u001b[0m\u001b[0;36m224\u001b[0m\u001b[0;34m,\u001b[0m\u001b[0;36m224\u001b[0m\u001b[0;34m,\u001b[0m\u001b[0;36m3\u001b[0m\u001b[0;34m)\u001b[0m\u001b[0;34m)\u001b[0m\u001b[0;34m\u001b[0m\u001b[0;34m\u001b[0m\u001b[0m\n\u001b[0;32m---> 51\u001b[0;31m             \u001b[0mpredictions\u001b[0m \u001b[0;34m=\u001b[0m \u001b[0mclassifier\u001b[0m\u001b[0;34m.\u001b[0m\u001b[0mpredict\u001b[0m\u001b[0;34m(\u001b[0m\u001b[0mtrial_samples\u001b[0m\u001b[0;34m)\u001b[0m\u001b[0;34m\u001b[0m\u001b[0;34m\u001b[0m\u001b[0m\n\u001b[0m\u001b[1;32m     52\u001b[0m             \u001b[0mn_calls\u001b[0m \u001b[0;34m+=\u001b[0m \u001b[0;36m10\u001b[0m\u001b[0;34m\u001b[0m\u001b[0;34m\u001b[0m\u001b[0m\n\u001b[1;32m     53\u001b[0m             \u001b[0mpredictions\u001b[0m \u001b[0;34m=\u001b[0m \u001b[0mnp\u001b[0m\u001b[0;34m.\u001b[0m\u001b[0margmax\u001b[0m\u001b[0;34m(\u001b[0m\u001b[0mpredictions\u001b[0m\u001b[0;34m,\u001b[0m \u001b[0maxis\u001b[0m\u001b[0;34m=\u001b[0m\u001b[0;36m1\u001b[0m\u001b[0;34m)\u001b[0m\u001b[0;34m\u001b[0m\u001b[0;34m\u001b[0m\u001b[0m\n",
            "\u001b[0;32m/usr/local/lib/python3.7/dist-packages/keras/utils/traceback_utils.py\u001b[0m in \u001b[0;36merror_handler\u001b[0;34m(*args, **kwargs)\u001b[0m\n\u001b[1;32m     62\u001b[0m     \u001b[0mfiltered_tb\u001b[0m \u001b[0;34m=\u001b[0m \u001b[0;32mNone\u001b[0m\u001b[0;34m\u001b[0m\u001b[0;34m\u001b[0m\u001b[0m\n\u001b[1;32m     63\u001b[0m     \u001b[0;32mtry\u001b[0m\u001b[0;34m:\u001b[0m\u001b[0;34m\u001b[0m\u001b[0;34m\u001b[0m\u001b[0m\n\u001b[0;32m---> 64\u001b[0;31m       \u001b[0;32mreturn\u001b[0m \u001b[0mfn\u001b[0m\u001b[0;34m(\u001b[0m\u001b[0;34m*\u001b[0m\u001b[0margs\u001b[0m\u001b[0;34m,\u001b[0m \u001b[0;34m**\u001b[0m\u001b[0mkwargs\u001b[0m\u001b[0;34m)\u001b[0m\u001b[0;34m\u001b[0m\u001b[0;34m\u001b[0m\u001b[0m\n\u001b[0m\u001b[1;32m     65\u001b[0m     \u001b[0;32mexcept\u001b[0m \u001b[0mException\u001b[0m \u001b[0;32mas\u001b[0m \u001b[0me\u001b[0m\u001b[0;34m:\u001b[0m  \u001b[0;31m# pylint: disable=broad-except\u001b[0m\u001b[0;34m\u001b[0m\u001b[0;34m\u001b[0m\u001b[0m\n\u001b[1;32m     66\u001b[0m       \u001b[0mfiltered_tb\u001b[0m \u001b[0;34m=\u001b[0m \u001b[0m_process_traceback_frames\u001b[0m\u001b[0;34m(\u001b[0m\u001b[0me\u001b[0m\u001b[0;34m.\u001b[0m\u001b[0m__traceback__\u001b[0m\u001b[0;34m)\u001b[0m\u001b[0;34m\u001b[0m\u001b[0;34m\u001b[0m\u001b[0m\n",
            "\u001b[0;32m/usr/local/lib/python3.7/dist-packages/keras/engine/training.py\u001b[0m in \u001b[0;36mpredict\u001b[0;34m(self, x, batch_size, verbose, steps, callbacks, max_queue_size, workers, use_multiprocessing)\u001b[0m\n\u001b[1;32m   1787\u001b[0m           \u001b[0;32mfor\u001b[0m \u001b[0mstep\u001b[0m \u001b[0;32min\u001b[0m \u001b[0mdata_handler\u001b[0m\u001b[0;34m.\u001b[0m\u001b[0msteps\u001b[0m\u001b[0;34m(\u001b[0m\u001b[0;34m)\u001b[0m\u001b[0;34m:\u001b[0m\u001b[0;34m\u001b[0m\u001b[0;34m\u001b[0m\u001b[0m\n\u001b[1;32m   1788\u001b[0m             \u001b[0mcallbacks\u001b[0m\u001b[0;34m.\u001b[0m\u001b[0mon_predict_batch_begin\u001b[0m\u001b[0;34m(\u001b[0m\u001b[0mstep\u001b[0m\u001b[0;34m)\u001b[0m\u001b[0;34m\u001b[0m\u001b[0;34m\u001b[0m\u001b[0m\n\u001b[0;32m-> 1789\u001b[0;31m             \u001b[0mtmp_batch_outputs\u001b[0m \u001b[0;34m=\u001b[0m \u001b[0mself\u001b[0m\u001b[0;34m.\u001b[0m\u001b[0mpredict_function\u001b[0m\u001b[0;34m(\u001b[0m\u001b[0miterator\u001b[0m\u001b[0;34m)\u001b[0m\u001b[0;34m\u001b[0m\u001b[0;34m\u001b[0m\u001b[0m\n\u001b[0m\u001b[1;32m   1790\u001b[0m             \u001b[0;32mif\u001b[0m \u001b[0mdata_handler\u001b[0m\u001b[0;34m.\u001b[0m\u001b[0mshould_sync\u001b[0m\u001b[0;34m:\u001b[0m\u001b[0;34m\u001b[0m\u001b[0;34m\u001b[0m\u001b[0m\n\u001b[1;32m   1791\u001b[0m               \u001b[0mcontext\u001b[0m\u001b[0;34m.\u001b[0m\u001b[0masync_wait\u001b[0m\u001b[0;34m(\u001b[0m\u001b[0;34m)\u001b[0m\u001b[0;34m\u001b[0m\u001b[0;34m\u001b[0m\u001b[0m\n",
            "\u001b[0;32m/usr/local/lib/python3.7/dist-packages/tensorflow/python/util/traceback_utils.py\u001b[0m in \u001b[0;36merror_handler\u001b[0;34m(*args, **kwargs)\u001b[0m\n\u001b[1;32m    148\u001b[0m     \u001b[0mfiltered_tb\u001b[0m \u001b[0;34m=\u001b[0m \u001b[0;32mNone\u001b[0m\u001b[0;34m\u001b[0m\u001b[0;34m\u001b[0m\u001b[0m\n\u001b[1;32m    149\u001b[0m     \u001b[0;32mtry\u001b[0m\u001b[0;34m:\u001b[0m\u001b[0;34m\u001b[0m\u001b[0;34m\u001b[0m\u001b[0m\n\u001b[0;32m--> 150\u001b[0;31m       \u001b[0;32mreturn\u001b[0m \u001b[0mfn\u001b[0m\u001b[0;34m(\u001b[0m\u001b[0;34m*\u001b[0m\u001b[0margs\u001b[0m\u001b[0;34m,\u001b[0m \u001b[0;34m**\u001b[0m\u001b[0mkwargs\u001b[0m\u001b[0;34m)\u001b[0m\u001b[0;34m\u001b[0m\u001b[0;34m\u001b[0m\u001b[0m\n\u001b[0m\u001b[1;32m    151\u001b[0m     \u001b[0;32mexcept\u001b[0m \u001b[0mException\u001b[0m \u001b[0;32mas\u001b[0m \u001b[0me\u001b[0m\u001b[0;34m:\u001b[0m\u001b[0;34m\u001b[0m\u001b[0;34m\u001b[0m\u001b[0m\n\u001b[1;32m    152\u001b[0m       \u001b[0mfiltered_tb\u001b[0m \u001b[0;34m=\u001b[0m \u001b[0m_process_traceback_frames\u001b[0m\u001b[0;34m(\u001b[0m\u001b[0me\u001b[0m\u001b[0;34m.\u001b[0m\u001b[0m__traceback__\u001b[0m\u001b[0;34m)\u001b[0m\u001b[0;34m\u001b[0m\u001b[0;34m\u001b[0m\u001b[0m\n",
            "\u001b[0;32m/usr/local/lib/python3.7/dist-packages/tensorflow/python/eager/def_function.py\u001b[0m in \u001b[0;36m__call__\u001b[0;34m(self, *args, **kwds)\u001b[0m\n\u001b[1;32m    908\u001b[0m \u001b[0;34m\u001b[0m\u001b[0m\n\u001b[1;32m    909\u001b[0m       \u001b[0;32mwith\u001b[0m \u001b[0mOptionalXlaContext\u001b[0m\u001b[0;34m(\u001b[0m\u001b[0mself\u001b[0m\u001b[0;34m.\u001b[0m\u001b[0m_jit_compile\u001b[0m\u001b[0;34m)\u001b[0m\u001b[0;34m:\u001b[0m\u001b[0;34m\u001b[0m\u001b[0;34m\u001b[0m\u001b[0m\n\u001b[0;32m--> 910\u001b[0;31m         \u001b[0mresult\u001b[0m \u001b[0;34m=\u001b[0m \u001b[0mself\u001b[0m\u001b[0;34m.\u001b[0m\u001b[0m_call\u001b[0m\u001b[0;34m(\u001b[0m\u001b[0;34m*\u001b[0m\u001b[0margs\u001b[0m\u001b[0;34m,\u001b[0m \u001b[0;34m**\u001b[0m\u001b[0mkwds\u001b[0m\u001b[0;34m)\u001b[0m\u001b[0;34m\u001b[0m\u001b[0;34m\u001b[0m\u001b[0m\n\u001b[0m\u001b[1;32m    911\u001b[0m \u001b[0;34m\u001b[0m\u001b[0m\n\u001b[1;32m    912\u001b[0m       \u001b[0mnew_tracing_count\u001b[0m \u001b[0;34m=\u001b[0m \u001b[0mself\u001b[0m\u001b[0;34m.\u001b[0m\u001b[0mexperimental_get_tracing_count\u001b[0m\u001b[0;34m(\u001b[0m\u001b[0;34m)\u001b[0m\u001b[0;34m\u001b[0m\u001b[0;34m\u001b[0m\u001b[0m\n",
            "\u001b[0;32m/usr/local/lib/python3.7/dist-packages/tensorflow/python/eager/def_function.py\u001b[0m in \u001b[0;36m_call\u001b[0;34m(self, *args, **kwds)\u001b[0m\n\u001b[1;32m    947\u001b[0m       \u001b[0;31m# In this case we have not created variables on the first call. So we can\u001b[0m\u001b[0;34m\u001b[0m\u001b[0;34m\u001b[0m\u001b[0;34m\u001b[0m\u001b[0m\n\u001b[1;32m    948\u001b[0m       \u001b[0;31m# run the first trace but we should fail if variables are created.\u001b[0m\u001b[0;34m\u001b[0m\u001b[0;34m\u001b[0m\u001b[0;34m\u001b[0m\u001b[0m\n\u001b[0;32m--> 949\u001b[0;31m       \u001b[0mresults\u001b[0m \u001b[0;34m=\u001b[0m \u001b[0mself\u001b[0m\u001b[0;34m.\u001b[0m\u001b[0m_stateful_fn\u001b[0m\u001b[0;34m(\u001b[0m\u001b[0;34m*\u001b[0m\u001b[0margs\u001b[0m\u001b[0;34m,\u001b[0m \u001b[0;34m**\u001b[0m\u001b[0mkwds\u001b[0m\u001b[0;34m)\u001b[0m\u001b[0;34m\u001b[0m\u001b[0;34m\u001b[0m\u001b[0m\n\u001b[0m\u001b[1;32m    950\u001b[0m       \u001b[0;32mif\u001b[0m \u001b[0mself\u001b[0m\u001b[0;34m.\u001b[0m\u001b[0m_created_variables\u001b[0m \u001b[0;32mand\u001b[0m \u001b[0;32mnot\u001b[0m \u001b[0mALLOW_DYNAMIC_VARIABLE_CREATION\u001b[0m\u001b[0;34m:\u001b[0m\u001b[0;34m\u001b[0m\u001b[0;34m\u001b[0m\u001b[0m\n\u001b[1;32m    951\u001b[0m         raise ValueError(\"Creating variables on a non-first call to a function\"\n",
            "\u001b[0;32m/usr/local/lib/python3.7/dist-packages/tensorflow/python/eager/function.py\u001b[0m in \u001b[0;36m__call__\u001b[0;34m(self, *args, **kwargs)\u001b[0m\n\u001b[1;32m   3129\u001b[0m        filtered_flat_args) = self._maybe_define_function(args, kwargs)\n\u001b[1;32m   3130\u001b[0m     return graph_function._call_flat(\n\u001b[0;32m-> 3131\u001b[0;31m         filtered_flat_args, captured_inputs=graph_function.captured_inputs)  # pylint: disable=protected-access\n\u001b[0m\u001b[1;32m   3132\u001b[0m \u001b[0;34m\u001b[0m\u001b[0m\n\u001b[1;32m   3133\u001b[0m   \u001b[0;34m@\u001b[0m\u001b[0mproperty\u001b[0m\u001b[0;34m\u001b[0m\u001b[0;34m\u001b[0m\u001b[0m\n",
            "\u001b[0;32m/usr/local/lib/python3.7/dist-packages/tensorflow/python/eager/function.py\u001b[0m in \u001b[0;36m_call_flat\u001b[0;34m(self, args, captured_inputs, cancellation_manager)\u001b[0m\n\u001b[1;32m   1958\u001b[0m       \u001b[0;31m# No tape is watching; skip to running the function.\u001b[0m\u001b[0;34m\u001b[0m\u001b[0;34m\u001b[0m\u001b[0;34m\u001b[0m\u001b[0m\n\u001b[1;32m   1959\u001b[0m       return self._build_call_outputs(self._inference_function.call(\n\u001b[0;32m-> 1960\u001b[0;31m           ctx, args, cancellation_manager=cancellation_manager))\n\u001b[0m\u001b[1;32m   1961\u001b[0m     forward_backward = self._select_forward_and_backward_functions(\n\u001b[1;32m   1962\u001b[0m         \u001b[0margs\u001b[0m\u001b[0;34m,\u001b[0m\u001b[0;34m\u001b[0m\u001b[0;34m\u001b[0m\u001b[0m\n",
            "\u001b[0;32m/usr/local/lib/python3.7/dist-packages/tensorflow/python/eager/function.py\u001b[0m in \u001b[0;36mcall\u001b[0;34m(self, ctx, args, cancellation_manager)\u001b[0m\n\u001b[1;32m    601\u001b[0m               \u001b[0minputs\u001b[0m\u001b[0;34m=\u001b[0m\u001b[0margs\u001b[0m\u001b[0;34m,\u001b[0m\u001b[0;34m\u001b[0m\u001b[0;34m\u001b[0m\u001b[0m\n\u001b[1;32m    602\u001b[0m               \u001b[0mattrs\u001b[0m\u001b[0;34m=\u001b[0m\u001b[0mattrs\u001b[0m\u001b[0;34m,\u001b[0m\u001b[0;34m\u001b[0m\u001b[0;34m\u001b[0m\u001b[0m\n\u001b[0;32m--> 603\u001b[0;31m               ctx=ctx)\n\u001b[0m\u001b[1;32m    604\u001b[0m         \u001b[0;32melse\u001b[0m\u001b[0;34m:\u001b[0m\u001b[0;34m\u001b[0m\u001b[0;34m\u001b[0m\u001b[0m\n\u001b[1;32m    605\u001b[0m           outputs = execute.execute_with_cancellation(\n",
            "\u001b[0;32m/usr/local/lib/python3.7/dist-packages/tensorflow/python/eager/execute.py\u001b[0m in \u001b[0;36mquick_execute\u001b[0;34m(op_name, num_outputs, inputs, attrs, ctx, name)\u001b[0m\n\u001b[1;32m     57\u001b[0m     \u001b[0mctx\u001b[0m\u001b[0;34m.\u001b[0m\u001b[0mensure_initialized\u001b[0m\u001b[0;34m(\u001b[0m\u001b[0;34m)\u001b[0m\u001b[0;34m\u001b[0m\u001b[0;34m\u001b[0m\u001b[0m\n\u001b[1;32m     58\u001b[0m     tensors = pywrap_tfe.TFE_Py_Execute(ctx._handle, device_name, op_name,\n\u001b[0;32m---> 59\u001b[0;31m                                         inputs, attrs, num_outputs)\n\u001b[0m\u001b[1;32m     60\u001b[0m   \u001b[0;32mexcept\u001b[0m \u001b[0mcore\u001b[0m\u001b[0;34m.\u001b[0m\u001b[0m_NotOkStatusException\u001b[0m \u001b[0;32mas\u001b[0m \u001b[0me\u001b[0m\u001b[0;34m:\u001b[0m\u001b[0;34m\u001b[0m\u001b[0;34m\u001b[0m\u001b[0m\n\u001b[1;32m     61\u001b[0m     \u001b[0;32mif\u001b[0m \u001b[0mname\u001b[0m \u001b[0;32mis\u001b[0m \u001b[0;32mnot\u001b[0m \u001b[0;32mNone\u001b[0m\u001b[0;34m:\u001b[0m\u001b[0;34m\u001b[0m\u001b[0;34m\u001b[0m\u001b[0m\n",
            "\u001b[0;31mKeyboardInterrupt\u001b[0m: "
          ]
        }
      ]
    }
  ]
}