{
  "nbformat": 4,
  "nbformat_minor": 0,
  "metadata": {
    "colab": {
      "provenance": []
    },
    "kernelspec": {
      "name": "python3",
      "display_name": "Python 3"
    },
    "language_info": {
      "name": "python"
    }
  },
  "cells": [
    {
      "cell_type": "markdown",
      "metadata": {
        "id": "view-in-github"
      },
      "source": [
        "<a href=\"https://colab.research.google.com/github/AristiPap/Thesis_Stuff/blob/main/DeepfoolAttack.ipynb\" target=\"_parent\"><img src=\"https://colab.research.google.com/assets/colab-badge.svg\" alt=\"Open In Colab\"/></a>"
      ]
    },
    {
      "cell_type": "markdown",
      "metadata": {
        "id": "WrviD5DSAQn_"
      },
      "source": [
        "Let’s quickly walkthrough each step of the algorithm:\n",
        "\n",
        "1) Input is an image x and the classifier f which is the model.\n",
        "\n",
        "2) The output which is the perturbation\n",
        "\n",
        "3) We initialize the perturbed image with the original image and the loop variable.\n",
        "\n",
        "4) We start the iteration and continue for uptil the original label and the perturbed label are not equal.\n",
        "\n",
        "5 – 8) We consider n classes that had a the most probability after the original class and we store the minimum difference between the original gradients and the gradients of each of these class (w_{k}) and the difference in the labels (f_{k}).\n",
        "\n",
        "9). The inner loop stores the minimum w_{k} and f_{k}, and using this we calculate the closest hyperplane for the input x\n",
        "\n",
        "10) We calculate the minimal vector that projects x onto the closest hyperplane that we calculated in 9.\n",
        "\n",
        "11) We add the minimal perturbation to the image and check if its miclassified.\n",
        "\n",
        "12–13). Loop variable increased; End Loop\n",
        "\n",
        "14) Return the total perturbation, which is a sum over all the calculated perturbations."
      ]
    },
    {
      "cell_type": "code",
      "metadata": {
        "id": "8V3plj0JKYyR"
      },
      "source": [
        "import torch\n",
        "import torch.nn as nn\n",
        "import torch.nn.functional as F\n",
        "import torch.optim as optim\n",
        "import torch.utils.data as data_utils\n",
        "\n",
        "import torchvision\n",
        "import torchvision.transforms as transforms\n",
        "import torchvision.models as models\n",
        "\n",
        "import numpy as np\n",
        "import math\n",
        "import copy\n",
        "import os\n",
        "import matplotlib.pyplot as plt\n",
        "from PIL import Image\n",
        "import time\n",
        "import os\n",
        "import datetime"
      ],
      "execution_count": null,
      "outputs": []
    },
    {
      "cell_type": "code",
      "metadata": {
        "colab": {
          "base_uri": "https://localhost:8080/"
        },
        "id": "ptD5B8-_3E5Q",
        "outputId": "492a5af8-0fee-4d94-a832-61318be5f168"
      },
      "source": [
        "# mount google drive\n",
        "from google.colab import drive\n",
        "drive.mount('/content/drive')"
      ],
      "execution_count": null,
      "outputs": [
        {
          "output_type": "stream",
          "name": "stdout",
          "text": [
            "Mounted at /content/drive\n"
          ]
        }
      ]
    },
    {
      "cell_type": "code",
      "metadata": {
        "id": "ACU6T5JTaRm_"
      },
      "source": [
        "def deepfool(image, net, num_classes=10, overshoot=0.02, max_iter=10):\n",
        "\n",
        "    f_image = net.forward(image).data.numpy().flatten()\n",
        "    I = (np.array(f_image)).flatten().argsort()[::-1]\n",
        "\n",
        "    I = I[0:num_classes]\n",
        "    label = I[0]\n",
        "\n",
        "    input_shape = image.detach().numpy().shape\n",
        "    pert_image = copy.deepcopy(image)\n",
        "    w = np.zeros(input_shape)\n",
        "    r_tot = np.zeros(input_shape)\n",
        "\n",
        "    loop_i = 0\n",
        "\n",
        "    x = torch.tensor(pert_image[None, :],requires_grad=True)\n",
        "    \n",
        "    fs = net.forward(x[0])\n",
        "    fs_list = [fs[0,I[k]] for k in range(num_classes)]\n",
        "    k_i = label\n",
        "\n",
        "    while k_i == label and loop_i < max_iter:\n",
        "\n",
        "        pert = np.inf\n",
        "        fs[0, I[0]].backward(retain_graph=True)\n",
        "        grad_orig = x.grad.data.numpy().copy()\n",
        "\n",
        "        for k in range(1, num_classes):\n",
        "            \n",
        "            fs[0, I[k]].backward(retain_graph=True)\n",
        "            cur_grad = x.grad.data.numpy().copy()\n",
        "\n",
        "            # set new w_k and new f_k\n",
        "            w_k = cur_grad - grad_orig\n",
        "            f_k = (fs[0, I[k]] - fs[0, I[0]]).data.numpy()\n",
        "\n",
        "            pert_k = abs(f_k)/np.linalg.norm(w_k.flatten())\n",
        "\n",
        "            # determine which w_k to use\n",
        "            if pert_k < pert:\n",
        "                pert = pert_k\n",
        "                w = w_k\n",
        "\n",
        "        # compute r_i and r_tot\n",
        "        # Added 1e-4 for numerical stability\n",
        "        r_i =  (pert+1e-4) * w / np.linalg.norm(w)\n",
        "        r_tot = np.float32(r_tot + r_i)\n",
        "\n",
        "        pert_image = image + (1+overshoot)*torch.from_numpy(r_tot)\n",
        "\n",
        "        x = torch.tensor(pert_image, requires_grad=True)\n",
        "        fs = net.forward(x[0])\n",
        "        k_i = np.argmax(fs.data.numpy().flatten())\n",
        "\n",
        "        loop_i += 1\n",
        "\n",
        "    r_tot = (1+overshoot)*r_tot\n",
        "\n",
        "    return r_tot, loop_i, label, k_i, pert_image\n"
      ],
      "execution_count": null,
      "outputs": []
    },
    {
      "cell_type": "code",
      "metadata": {
        "colab": {
          "base_uri": "https://localhost:8080/"
        },
        "id": "xKTgK7j7d2Yy",
        "outputId": "77404e23-d394-42ca-b6f3-caa8c2451369"
      },
      "source": [
        "folder = time.strftime('[%d%m%Y]_%H%M%s', time.localtime())\n",
        "dir_path = _dir_path = \"/content/drive/MyDrive/Thesis_notebooks/my_deepfool_attack/images\"\n",
        "os.mkdir(os.path.join(dir_path,folder))\n",
        "\n",
        "net = models.resnet34(pretrained=True)\n",
        "\n",
        "# Switch to evaluation mode\n",
        "net.eval()\n",
        "\n",
        "im_orig = Image.open('/content/drive/MyDrive/Thesis_notebooks/my_boundary_attack/boundary-attack-master/images/4.jpg')\n",
        "\n",
        "im = transforms.Compose([\n",
        "    transforms.ToTensor(),\n",
        "    ])(im_orig)\n",
        "\n",
        "img = torch.tensor(im[None,:,:,:],requires_grad =True)\n",
        "#execute attack\n",
        "r, loop_i, label_orig, label_pert, pert_image = deepfool(img, net,max_iter=50)"
      ],
      "execution_count": null,
      "outputs": [
        {
          "output_type": "stream",
          "name": "stderr",
          "text": [
            "/usr/local/lib/python3.7/dist-packages/ipykernel_launcher.py:16: UserWarning: To copy construct from a tensor, it is recommended to use sourceTensor.clone().detach() or sourceTensor.clone().detach().requires_grad_(True), rather than torch.tensor(sourceTensor).\n",
            "  app.launch_new_instance()\n",
            "/usr/local/lib/python3.7/dist-packages/ipykernel_launcher.py:51: UserWarning: To copy construct from a tensor, it is recommended to use sourceTensor.clone().detach() or sourceTensor.clone().detach().requires_grad_(True), rather than torch.tensor(sourceTensor).\n"
          ]
        }
      ]
    },
    {
      "cell_type": "code",
      "source": [
        "print(r, loop_i)"
      ],
      "metadata": {
        "colab": {
          "base_uri": "https://localhost:8080/"
        },
        "id": "jTQROUyAKrnP",
        "outputId": "05cfde94-821f-46a2-b964-b1146a6d32cb"
      },
      "execution_count": null,
      "outputs": [
        {
          "output_type": "stream",
          "name": "stdout",
          "text": [
            "[[[[[-2.2929769e-03 -9.4762642e-04  5.0007977e-04 ... -4.9702660e-04\n",
            "      3.0037602e-03 -1.2564469e-03]\n",
            "    [-1.7919235e-03  1.8957023e-04 -2.2905644e-03 ... -8.3240931e-04\n",
            "     -2.7697149e-03 -2.3215450e-03]\n",
            "    [ 1.5071634e-03  4.3488466e-03 -2.7887633e-03 ... -2.8384544e-04\n",
            "     -5.2142208e-03 -4.4551864e-03]\n",
            "    ...\n",
            "    [-2.7441864e-03  3.1688155e-04 -5.5831973e-04 ... -1.3204283e-03\n",
            "     -1.5188195e-03 -6.3480489e-05]\n",
            "    [ 5.7275384e-04  2.8085394e-04 -9.1075257e-04 ... -1.3749030e-03\n",
            "     -7.6788530e-04 -2.1443776e-04]\n",
            "    [ 1.7284636e-03  1.6700318e-03  1.1309085e-03 ... -5.6989997e-04\n",
            "      4.2435306e-04  3.4473275e-04]]\n",
            "\n",
            "   [[-3.7154378e-03 -1.7156216e-03  2.8832947e-04 ...  6.8587024e-04\n",
            "      5.5768280e-03 -6.9618388e-04]\n",
            "    [-3.1852312e-03 -1.4271510e-03 -3.2596968e-03 ... -1.2177761e-04\n",
            "      4.4289228e-04  6.1749050e-04]\n",
            "    [ 4.1900223e-04  3.6617867e-03 -2.7707547e-03 ... -3.2538961e-04\n",
            "     -9.0658461e-04  5.6772825e-04]\n",
            "    ...\n",
            "    [-5.4306365e-03 -1.2047739e-03  7.8656350e-04 ... -1.4206029e-04\n",
            "     -1.0419660e-03  4.1832309e-04]\n",
            "    [-7.3155109e-04 -6.2837021e-04  1.2671167e-03 ... -3.1373234e-04\n",
            "      1.9437456e-04  3.9368961e-04]\n",
            "    [ 1.1333218e-03  1.0532791e-03  3.2681497e-03 ...  9.4640680e-04\n",
            "      1.9288877e-03  1.3879846e-03]]\n",
            "\n",
            "   [[-2.1195689e-03 -1.4132798e-03 -4.7248899e-04 ...  5.0482195e-04\n",
            "      7.1319094e-04 -4.0838243e-03]\n",
            "    [-2.4224692e-03 -1.9324905e-03 -3.5584534e-03 ... -1.4710883e-03\n",
            "     -1.2986258e-03 -1.2438368e-03]\n",
            "    [-2.3667479e-03 -2.1383091e-04 -4.1945623e-03 ... -2.9424636e-03\n",
            "     -8.4735488e-04  1.1909251e-03]\n",
            "    ...\n",
            "    [-4.3228688e-03 -2.1578846e-03  1.0756687e-04 ... -1.0562316e-03\n",
            "     -7.6355261e-04 -6.5568631e-04]\n",
            "    [-1.3784786e-03 -2.3102295e-03  5.6260178e-04 ... -1.1241573e-03\n",
            "     -2.4263577e-04 -6.0961192e-04]\n",
            "    [ 3.7853143e-04 -1.2565508e-03  9.4307982e-04 ... -9.9058452e-05\n",
            "      6.1849109e-04 -2.1162044e-04]]]]] 18\n"
          ]
        }
      ]
    },
    {
      "cell_type": "code",
      "source": [
        "folder_id = time.strftime('[%d%m%Y]_%H%M%s', time.localtime())\n",
        "input_path = \"/content/drive/MyDrive/Thesis_notebooks/my_deepfool_attack/images\"\n",
        "os.mkdir(os.path.join(input_path, folder_id))"
      ],
      "metadata": {
        "id": "pyT_eqdGA7Z8"
      },
      "execution_count": null,
      "outputs": []
    },
    {
      "cell_type": "code",
      "source": [
        "from torchvision.utils import save_image\n",
        "import cv2 "
      ],
      "metadata": {
        "id": "Fda-CqXjMDdc"
      },
      "execution_count": null,
      "outputs": []
    },
    {
      "cell_type": "code",
      "source": [
        "def _save_image(pert_image, label, folder,orig = False):\n",
        "    \"\"\"Export image file.\"\"\"\n",
        "    # Reverse preprocessing, see https://github.com/keras-team/keras/blob/master/keras/applications/imagenet_utils.py\n",
        "    # Convert array to image and save\n",
        "   # arr_ = np.squeeze(pert_image) # you can give axis attribute if you wanna squeeze in specific dimension\n",
        "    id_no = time.strftime('%Y%m%d_%H%M%S', datetime.datetime.now().timetuple())\n",
        "    \n",
        "    if orig:\n",
        "      pert_image = pert_image.save(os.path.join(\"/content/drive/MyDrive/Thesis_notebooks/my_deepfool_attack/images\", folder,\"{}_{}.png\".format(id_no, label)))\n",
        "      # pert_image_numpy = np.array(pert_image)\n",
        "      # result=cv2.imwrite(os.path.join(\"/content/drive/MyDrive/Thesis_notebooks/my_deepfool_attack/images\", folder,\"{}_{}.png\".format(id_no, label)), pert_image_numpy)\n",
        "      # if result==True:\n",
        "      #   print(\"File saved successfully\")\n",
        "      # else:\n",
        "      #   print(\"Error in saving file\")\n",
        "     # plt.savefig(os.path.join(\"/content/drive/MyDrive/Thesis_notebooks/my_deepfool_attack/images\", folder,\"{}_{}.png\".format(id_no, label)), dpi=300, bbox_inches='tight')\n",
        "    else:\n",
        "      pert_image_numpy = pert_image.detach().squeeze().numpy()\n",
        "      print(pert_image_numpy.shape)\n",
        "      plt.figure()\n",
        "      tmp_img = pert_image_numpy\n",
        "      plt.imshow(pert_image_numpy.transpose(1,2,0))\n",
        "  \n",
        "      norm = plt.Normalize(vmin=tmp_img.transpose(1,2,0).min(), vmax=tmp_img.transpose(1,2,0).max())\n",
        "      # map the normalized data to colors\n",
        "      # image is now RGBA (512x512x4) \n",
        "      _image =  (1/(2*1.050000000745058)) * tmp_img + 0.35\n",
        "      # Save with predicted label for image (may not be adversarial due to uint8 conversion)\n",
        "      plt.imsave(os.path.join(\"/content/drive/MyDrive/Thesis_notebooks/my_deepfool_attack/images\", folder,\"{}_{}.png\".format(id_no, label)), _image.transpose(1,2,0))"
      ],
      "metadata": {
        "id": "2KXbL4YqoWCE"
      },
      "execution_count": null,
      "outputs": []
    },
    {
      "cell_type": "code",
      "metadata": {
        "id": "hpexDyBOd7du",
        "colab": {
          "base_uri": "https://localhost:8080/",
          "height": 475
        },
        "outputId": "f7d5a920-d62d-4348-bb32-688295003383"
      },
      "source": [
        "labels = open(os.path.join('/content/drive/MyDrive/Thesis_notebooks/my_deepfool_attack/synset_words.txt'), 'r').read().split('\\n')\n",
        "\n",
        "str_label_orig = labels[np.int(label_orig)].split(',')[0]\n",
        "str_label_pert = labels[np.int(label_pert)].split(',')[0]\n",
        "\n",
        "print(\"Original label = \", str_label_orig)\n",
        "print(\"Perturbed label = \", str_label_pert)\n",
        "\n",
        "pert_image_numpy = pert_image.detach().squeeze().numpy()\n",
        "print(pert_image_numpy.shape)\n",
        "plt.figure()\n",
        "plt.imshow(pert_image_numpy.transpose(1,2,0))\n",
        "plt.title(str_label_pert)\n",
        "plt.show()"
      ],
      "execution_count": null,
      "outputs": [
        {
          "output_type": "stream",
          "name": "stderr",
          "text": [
            "/usr/local/lib/python3.7/dist-packages/ipykernel_launcher.py:3: DeprecationWarning: `np.int` is a deprecated alias for the builtin `int`. To silence this warning, use `int` by itself. Doing this will not modify any behavior and is safe. When replacing `np.int`, you may wish to use e.g. `np.int64` or `np.int32` to specify the precision. If you wish to review your current use, check the release note link for additional information.\n",
            "Deprecated in NumPy 1.20; for more details and guidance: https://numpy.org/devdocs/release/1.20.0-notes.html#deprecations\n",
            "  This is separate from the ipykernel package so we can avoid doing imports until\n",
            "/usr/local/lib/python3.7/dist-packages/ipykernel_launcher.py:4: DeprecationWarning: `np.int` is a deprecated alias for the builtin `int`. To silence this warning, use `int` by itself. Doing this will not modify any behavior and is safe. When replacing `np.int`, you may wish to use e.g. `np.int64` or `np.int32` to specify the precision. If you wish to review your current use, check the release note link for additional information.\n",
            "Deprecated in NumPy 1.20; for more details and guidance: https://numpy.org/devdocs/release/1.20.0-notes.html#deprecations\n",
            "  after removing the cwd from sys.path.\n",
            "WARNING:matplotlib.image:Clipping input data to the valid range for imshow with RGB data ([0..1] for floats or [0..255] for integers).\n"
          ]
        },
        {
          "output_type": "stream",
          "name": "stdout",
          "text": [
            "Original label =  n03095699 container ship\n",
            "Perturbed label =  n04149813 scoreboard\n",
            "(3, 28, 28)\n"
          ]
        },
        {
          "output_type": "display_data",
          "data": {
            "text/plain": [
              "<Figure size 432x288 with 1 Axes>"
            ],
            "image/png": "[encoded data removed]"
          },
          "metadata": {
            "needs_background": "light"
          }
        }
      ]
    },
    {
      "cell_type": "code",
      "source": [
        "_save_image(im_orig, str_label_orig, folder_id, orig = True)\n",
        "_save_image(pert_image, str_label_pert, folder_id)"
      ],
      "metadata": {
        "colab": {
          "base_uri": "https://localhost:8080/",
          "height": 300
        },
        "id": "dcu3M9uDFdV3",
        "outputId": "a0ba93c8-9e94-49a8-fe6b-a7c9c27e2247"
      },
      "execution_count": null,
      "outputs": [
        {
          "output_type": "stream",
          "name": "stderr",
          "text": [
            "WARNING:matplotlib.image:Clipping input data to the valid range for imshow with RGB data ([0..1] for floats or [0..255] for integers).\n"
          ]
        },
        {
          "output_type": "stream",
          "name": "stdout",
          "text": [
            "(3, 28, 28)\n"
          ]
        },
        {
          "output_type": "display_data",
          "data": {
            "text/plain": [
              "<Figure size 432x288 with 1 Axes>"
            ],
            "image/png": "[encoded data removed]"
          },
          "metadata": {
            "needs_background": "light"
          }
        }
      ]
    },
    {
      "cell_type": "code",
      "metadata": {
        "id": "yZerGkwF5Fh7",
        "colab": {
          "base_uri": "https://localhost:8080/",
          "height": 281
        },
        "outputId": "6198c476-b156-497e-b765-56f03efec123"
      },
      "source": [
        "plt.figure()\n",
        "plt.imshow(im_orig)\n",
        "plt.title(str_label_orig)\n",
        "plt.show()"
      ],
      "execution_count": null,
      "outputs": [
        {
          "output_type": "display_data",
          "data": {
            "text/plain": [
              "<Figure size 432x288 with 1 Axes>"
            ],
            "image/png": "[encoded data removed]"
          },
          "metadata": {
            "needs_background": "light"
          }
        }
      ]
    }
  ]
}