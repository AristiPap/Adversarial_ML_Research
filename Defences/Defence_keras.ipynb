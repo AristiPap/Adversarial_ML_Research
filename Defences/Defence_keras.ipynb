{
  "cells": [
    {
      "cell_type": "markdown",
      "metadata": {
        "id": "view-in-github",
        "colab_type": "text"
      },
      "source": [
        "<a href=\"https://colab.research.google.com/github/AristiPap/Thesis_Stuff/blob/main/Defence_keras.ipynb\" target=\"_parent\"><img src=\"https://colab.research.google.com/assets/colab-badge.svg\" alt=\"Open In Colab\"/></a>"
      ]
    },
    {
      "cell_type": "code",
      "execution_count": 8,
      "metadata": {
        "colab": {
          "base_uri": "https://localhost:8080/",
          "height": 35
        },
        "id": "2YhgVpnoP0nQ",
        "outputId": "e3acd485-a265-4c6f-fd32-52c36b3b17c2"
      },
      "outputs": [
        {
          "output_type": "execute_result",
          "data": {
            "text/plain": [
              "'2.8.2'"
            ],
            "application/vnd.google.colaboratory.intrinsic+json": {
              "type": "string"
            }
          },
          "metadata": {},
          "execution_count": 8
        }
      ],
      "source": [
        "import tensorflow as tf\n",
        "\n",
        "from tensorflow.keras.datasets import mnist, cifar10, cifar100\n",
        "import tensorflow.keras.layers as L\n",
        "from tensorflow.keras import Sequential\n",
        "from tensorflow.keras.callbacks import LambdaCallback\n",
        "from tensorflow.keras.layers import Conv2D, MaxPooling2D, Dropout, Dense, Flatten, Activation\n",
        "from keras.preprocessing import image\n",
        "from tensorflow.keras.applications.resnet50 import ResNet50\n",
        "from tensorflow.keras.applications.resnet50 import preprocess_input, decode_predictions\n",
        "from tensorflow.keras.optimizers import Adam\n",
        "from tensorflow.keras.losses import SparseCategoricalCrossentropy\n",
        "\n",
        "import numpy as np\n",
        "import random\n",
        "\n",
        "from PIL import Image\n",
        "from random import randint\n",
        "import time\n",
        "import datetime\n",
        "import os\n",
        "from tensorflow.keras.utils import to_categorical\n",
        "import matplotlib.pyplot as plt\n",
        "\n",
        "tf.__version__"
      ]
    },
    {
      "cell_type": "code",
      "execution_count": 9,
      "metadata": {
        "colab": {
          "base_uri": "https://localhost:8080/"
        },
        "id": "UOTYhmrRP8kH",
        "outputId": "71845d55-4d4f-426d-93c3-eab741c7c427"
      },
      "outputs": [
        {
          "output_type": "stream",
          "name": "stdout",
          "text": [
            "Drive already mounted at /content/drive; to attempt to forcibly remount, call drive.mount(\"/content/drive\", force_remount=True).\n"
          ]
        }
      ],
      "source": [
        "from google.colab import drive\n",
        "drive.mount('/content/drive')"
      ]
    },
    {
      "cell_type": "code",
      "execution_count": 39,
      "metadata": {
        "id": "WR-2xA7TbKrB"
      },
      "outputs": [],
      "source": [
        "DATASET = 'mnist'"
      ]
    },
    {
      "cell_type": "code",
      "execution_count": 11,
      "metadata": {
        "id": "KcFPqzMQbSzL"
      },
      "outputs": [],
      "source": [
        "# Utility functions\n",
        "def print_shapes(x_train, x_test, y_train, y_test):\n",
        "  print(f\"x_train: {x_train.shape}\\n\"\\\n",
        "      f\"x_test: {x_test.shape}\\n\"\\\n",
        "      f\"y_train: {y_train.shape}\\n\"\\\n",
        "      f\"y_test: {y_test.shape}\\n\")"
      ]
    },
    {
      "cell_type": "code",
      "execution_count": 12,
      "metadata": {
        "colab": {
          "base_uri": "https://localhost:8080/"
        },
        "id": "KEBmAJ3rP-hN",
        "outputId": "8c820020-b805-452d-d843-e943d8f4576c"
      },
      "outputs": [
        {
          "output_type": "stream",
          "name": "stdout",
          "text": [
            "x_train: (50000, 32, 32, 3)\n",
            "x_test: (10000, 32, 32, 3)\n",
            "y_train: (50000, 1)\n",
            "y_test: (10000, 1)\n",
            "\n"
          ]
        }
      ],
      "source": [
        "# loading the dataset\n",
        "if DATASET == 'mnist':\n",
        "  (x_train, y_train), (x_test, y_test) = mnist.load_data()\n",
        "else:\n",
        "  (x_train, y_train), (x_test, y_test) = cifar10.load_data()\n",
        "  \n",
        "print_shapes(x_train, x_test, y_train, y_test)"
      ]
    },
    {
      "cell_type": "code",
      "execution_count": 13,
      "metadata": {
        "id": "1gNsL0gLQK7R"
      },
      "outputs": [],
      "source": [
        "# # Cifar100\n",
        "# labels = ['apple', 'aquarium_fish', 'baby', 'bear', 'beaver', 'bed', 'bee', 'beetle',\n",
        "#                 'bicycle', 'bottle', 'bowl', 'boy', 'bridge', 'bus', 'butterfly', 'camel',\n",
        "#                 'can', 'castle', 'caterpillar', 'cattle', 'chair', 'chimpanzee', 'clock',\n",
        "#                 'cloud', 'cockroach', 'couch', 'crab', 'crocodile', 'cup', 'dinosaur',\n",
        "#                 'dolphin', 'elephant', 'flatfish', 'forest', 'fox', 'girl', 'hamster',\n",
        "#                 'house', 'kangaroo', 'keyboard', 'lamp', 'lawn_mower', 'leopard', 'lion',\n",
        "#                 'lizard', 'lobster', 'man', 'maple_tree', 'motorcycle', 'mountain', 'mouse',\n",
        "#                 'mushroom', 'oak_tree', 'orange', 'orchid', 'otter', 'palm_tree', 'pear',\n",
        "#                 'pickup_truck', 'pine_tree', 'plain', 'plate', 'poppy', 'porcupine',\n",
        "#                 'possum', 'rabbit', 'raccoon', 'ray', 'road', 'rocket', 'rose',\n",
        "#                 'sea', 'seal', 'shark', 'shrew', 'skunk', 'skyscraper', 'snail', 'snake',\n",
        "#                 'spider', 'squirrel', 'streetcar', 'sunflower', 'sweet_pepper', 'table',\n",
        "#                 'tank', 'telephone', 'television', 'tiger', 'tractor', 'train', 'trout',\n",
        "#                 'tulip', 'turtle', 'wardrobe', 'whale', 'willow_tree', 'wolf', 'woman',\n",
        "#                 'worm']\n",
        "\n",
        "# Cifar10\n",
        "#labels = ['airplane', 'automobile', 'bird', 'cat', 'deer', 'dog', 'frog', 'horse', 'ship', 'truck']\n",
        "\n",
        "# MNIST\n",
        "labels = ['zero', 'one', 'two', 'three', 'four', 'five', 'six', 'seven', 'eight', 'nine']\n",
        "\n"
      ]
    },
    {
      "cell_type": "code",
      "execution_count": 14,
      "metadata": {
        "id": "Cv2znZnrQNnT"
      },
      "outputs": [],
      "source": [
        "# Pre-process data\n",
        "if DATASET == 'mnist':\n",
        "  img_rows, img_cols, channels =  28, 28, 1 \n",
        "else:\n",
        "  img_rows, img_cols, channels =  32, 32, 3\n",
        "\n",
        "num_classes = len(labels)\n",
        "\n",
        "x_train = x_train / 255\n",
        "x_test = x_test / 255\n",
        "\n",
        "x_train = np.expand_dims(x_train, axis=-1)\n",
        "x_test = np.expand_dims(x_test, axis=-1)\n",
        "\n",
        "y_train = to_categorical(y_train, 10)\n",
        "y_test = to_categorical(y_test, 10)"
      ]
    },
    {
      "cell_type": "code",
      "execution_count": 15,
      "metadata": {
        "id": "VYOLfD1g8Dyh"
      },
      "outputs": [],
      "source": [
        "class MyCNN(Sequential):\n",
        "  def __init__(self,input_size,filter_size=128, kernel_size = (3,3), dropout_flg = True, dropout_rate = 0.3):\n",
        "    super(MyCNN, self).__init__()\n",
        "    self.input_size = input_size\n",
        "    self.filter_size = filter_size\n",
        "    self.kernel_size = kernel_size\n",
        "    self.dropout_flg = dropout_flg\n",
        "    self.dropout_rate = dropout_rate\n",
        "\n",
        "    self.add(L.Conv2D(self.filter_size, kernel_size=self.kernel_size,padding='same', activation='relu', input_shape=self.input_size))\n",
        "    if dropout_flg:\n",
        "      self.add(L.Dropout(self.dropout_rate))\n",
        "    self.add(L.MaxPooling2D(pool_size=(2, 2)))\n",
        "\n",
        "    self.add(L.Conv2D(self.filter_size/2, kernel_size=self.kernel_size,padding='same', activation='relu',input_shape=self.input_size))\n",
        "    if dropout_flg:\n",
        "      self.add(L.Dropout(self.dropout_rate))\n",
        "    self.add(L.MaxPooling2D(pool_size=(2, 2)))\n",
        "\n",
        "    self.add(L.Conv2D(self.filter_size/2, kernel_size=self.kernel_size,padding='same', activation='relu'))\n",
        "    if dropout_flg:\n",
        "      self.add(L.Dropout(self.dropout_rate))\n",
        "    self.add(L.MaxPooling2D(pool_size=(2, 2)))\n",
        "\n",
        "    self.add(L.Conv2D(self.filter_size/2, kernel_size=self.kernel_size,padding='same', activation='relu'))\n",
        "    self.add(L.MaxPooling2D(pool_size=(2, 2)))\n",
        "\n",
        "    if dropout_flg:\n",
        "      self.add(L.Dropout(self.dropout_rate))\n",
        "      \n",
        "    self.add(L.Flatten())\n",
        "    self.add(L.Dense(32))\n",
        "    self.add(L.Dropout(0.2))\n",
        "    self.add(L.Dense(num_classes, activation='softmax'))"
      ]
    },
    {
      "cell_type": "code",
      "execution_count": 16,
      "metadata": {
        "id": "qEhW1ZScgotA"
      },
      "outputs": [],
      "source": [
        "# Create and fit model\n",
        "model = MyCNN((img_rows, img_cols, channels))"
      ]
    },
    {
      "cell_type": "code",
      "execution_count": 17,
      "metadata": {
        "id": "J3UB6_RbhGWN"
      },
      "outputs": [],
      "source": [
        "model.compile(optimizer='adam', loss='mse', metrics=['accuracy'])"
      ]
    },
    {
      "cell_type": "code",
      "execution_count": 18,
      "metadata": {
        "colab": {
          "base_uri": "https://localhost:8080/"
        },
        "id": "4-q1TUSCQUJ1",
        "outputId": "95122147-3797-423c-d1c7-982f4b31f83e"
      },
      "outputs": [
        {
          "output_type": "stream",
          "name": "stdout",
          "text": [
            "Model: \"my_cnn\"\n",
            "_________________________________________________________________\n",
            " Layer (type)                Output Shape              Param #   \n",
            "=================================================================\n",
            " conv2d (Conv2D)             (None, 32, 32, 128)       3584      \n",
            "                                                                 \n",
            " dropout (Dropout)           (None, 32, 32, 128)       0         \n",
            "                                                                 \n",
            " max_pooling2d (MaxPooling2D  (None, 16, 16, 128)      0         \n",
            " )                                                               \n",
            "                                                                 \n",
            " conv2d_1 (Conv2D)           (None, 16, 16, 64)        73792     \n",
            "                                                                 \n",
            " dropout_1 (Dropout)         (None, 16, 16, 64)        0         \n",
            "                                                                 \n",
            " max_pooling2d_1 (MaxPooling  (None, 8, 8, 64)         0         \n",
            " 2D)                                                             \n",
            "                                                                 \n",
            " conv2d_2 (Conv2D)           (None, 8, 8, 64)          36928     \n",
            "                                                                 \n",
            " dropout_2 (Dropout)         (None, 8, 8, 64)          0         \n",
            "                                                                 \n",
            " max_pooling2d_2 (MaxPooling  (None, 4, 4, 64)         0         \n",
            " 2D)                                                             \n",
            "                                                                 \n",
            " conv2d_3 (Conv2D)           (None, 4, 4, 64)          36928     \n",
            "                                                                 \n",
            " max_pooling2d_3 (MaxPooling  (None, 2, 2, 64)         0         \n",
            " 2D)                                                             \n",
            "                                                                 \n",
            " dropout_3 (Dropout)         (None, 2, 2, 64)          0         \n",
            "                                                                 \n",
            " flatten (Flatten)           (None, 256)               0         \n",
            "                                                                 \n",
            " dense (Dense)               (None, 32)                8224      \n",
            "                                                                 \n",
            " dropout_4 (Dropout)         (None, 32)                0         \n",
            "                                                                 \n",
            " dense_1 (Dense)             (None, 10)                330       \n",
            "                                                                 \n",
            "=================================================================\n",
            "Total params: 159,786\n",
            "Trainable params: 159,786\n",
            "Non-trainable params: 0\n",
            "_________________________________________________________________\n"
          ]
        }
      ],
      "source": [
        "model.summary()"
      ]
    },
    {
      "cell_type": "code",
      "source": [
        "train_history = model.fit(x_train, y_train,\n",
        "\tvalidation_data=(x_test, y_test),\n",
        "\tbatch_size=64,\n",
        "\tepochs=10,\n",
        "\tverbose=1)"
      ],
      "metadata": {
        "colab": {
          "base_uri": "https://localhost:8080/"
        },
        "id": "WQy4SoY3cC7V",
        "outputId": "097686c1-3653-41e4-b780-9626760ee8e3"
      },
      "execution_count": 19,
      "outputs": [
        {
          "output_type": "stream",
          "name": "stdout",
          "text": [
            "Epoch 1/10\n",
            "782/782 [==============================] - 374s 476ms/step - loss: 0.0743 - accuracy: 0.3750 - val_loss: 0.0707 - val_accuracy: 0.4761\n",
            "Epoch 2/10\n",
            "782/782 [==============================] - 374s 479ms/step - loss: 0.0618 - accuracy: 0.5148 - val_loss: 0.0620 - val_accuracy: 0.5641\n",
            "Epoch 3/10\n",
            "782/782 [==============================] - 373s 477ms/step - loss: 0.0551 - accuracy: 0.5794 - val_loss: 0.0549 - val_accuracy: 0.6373\n",
            "Epoch 4/10\n",
            "782/782 [==============================] - 374s 478ms/step - loss: 0.0511 - accuracy: 0.6113 - val_loss: 0.0555 - val_accuracy: 0.6117\n",
            "Epoch 5/10\n",
            "782/782 [==============================] - 367s 470ms/step - loss: 0.0481 - accuracy: 0.6404 - val_loss: 0.0509 - val_accuracy: 0.6429\n",
            "Epoch 6/10\n",
            "782/782 [==============================] - 373s 477ms/step - loss: 0.0460 - accuracy: 0.6577 - val_loss: 0.0490 - val_accuracy: 0.6369\n",
            "Epoch 7/10\n",
            "782/782 [==============================] - 374s 478ms/step - loss: 0.0448 - accuracy: 0.6673 - val_loss: 0.0453 - val_accuracy: 0.6878\n",
            "Epoch 8/10\n",
            "782/782 [==============================] - 375s 479ms/step - loss: 0.0433 - accuracy: 0.6814 - val_loss: 0.0460 - val_accuracy: 0.6832\n",
            "Epoch 9/10\n",
            "782/782 [==============================] - 377s 482ms/step - loss: 0.0421 - accuracy: 0.6922 - val_loss: 0.0427 - val_accuracy: 0.7127\n",
            "Epoch 10/10\n",
            "782/782 [==============================] - 374s 479ms/step - loss: 0.0411 - accuracy: 0.6999 - val_loss: 0.0445 - val_accuracy: 0.6737\n"
          ]
        }
      ]
    },
    {
      "cell_type": "code",
      "execution_count": 20,
      "metadata": {
        "id": "jgJQ60FIosu4"
      },
      "outputs": [],
      "source": [
        "def _plot(history = train_history):\n",
        "  fig, axis = plt.subplots(2, 2,figsize=(20, 8))\n",
        "  # plotting loss\n",
        "  axis[0,0].plot(train_history.history['loss'], label=\"loss\",color='red')\n",
        "  axis[0, 0].set_title(\"Loss per epoch for training set\")\n",
        "  axis[0,1].plot(train_history.history['val_loss'], label=\"val_loss\",color='red')\n",
        "  axis[0, 1].set_title(\"Loss per epoch for validation set\")\n",
        "  # plotting accuracy\n",
        "  axis[1,0].plot(train_history.history['accuracy'], label=\"accuracy\",color='green')\n",
        "  axis[1, 0].set_title(\"Accuracy per epoch for training set\")\n",
        "  axis[1,1].plot(train_history.history['val_accuracy'], label=\"val_accuracy\",color='green')\n",
        "  axis[1, 1].set_title(\"Accuracy per epoch for validation set\")\n",
        "\n",
        "  plt.show()"
      ]
    },
    {
      "cell_type": "code",
      "execution_count": 21,
      "metadata": {
        "colab": {
          "base_uri": "https://localhost:8080/",
          "height": 499
        },
        "id": "tqDbg1vOq-wb",
        "outputId": "e9454cc3-7a1d-451e-ef0c-6c85abf12cb5"
      },
      "outputs": [
        {
          "output_type": "display_data",
          "data": {
            "text/plain": [
              "<Figure size 1440x576 with 4 Axes>"
            ],
            "image/png": "[encoded data removed]"
          },
          "metadata": {
            "needs_background": "light"
          }
        }
      ],
      "source": [
        "_plot()"
      ]
    },
    {
      "cell_type": "code",
      "execution_count": 22,
      "metadata": {
        "colab": {
          "base_uri": "https://localhost:8080/"
        },
        "id": "FEVVBJY-XRGP",
        "outputId": "66bd0b7d-0b77-4b7e-f3bb-109bb578bbd2"
      },
      "outputs": [
        {
          "output_type": "stream",
          "name": "stdout",
          "text": [
            "Base accuracy on regular images: [0.04451751708984375, 0.6736999750137329]\n"
          ]
        }
      ],
      "source": [
        "# Assess base model accuracy on regular images\n",
        "print(\"Base accuracy on regular images:\", model.evaluate(x=x_test, y=y_test, verbose=0))"
      ]
    },
    {
      "cell_type": "code",
      "execution_count": 23,
      "metadata": {
        "id": "FM5VBcPPOmOA"
      },
      "outputs": [],
      "source": [
        "folder_id = time.strftime('[%d%m%Y]_%H%M%s', time.localtime())\n",
        "dir_path = \"/content/drive/MyDrive/Thesis_notebooks/keras_boundary_attack/images\"\n",
        "os.mkdir(os.path.join(dir_path, folder_id))"
      ]
    },
    {
      "cell_type": "code",
      "execution_count": 24,
      "metadata": {
        "id": "8Qonq8JTtRuG"
      },
      "outputs": [],
      "source": [
        "def process_img(image,adversarial_label,squeeze = False, folder = folder_id):\n",
        "  \"\"\"Export image file.\"\"\"\n",
        "  label = adversarial_label\n",
        "  print(\"Labeling from function\",label)\n",
        "  \n",
        "  cmap = plt.cm.jet\n",
        "  id_no = time.strftime('%Y%m%d_%H%M%S', datetime.datetime.now().timetuple())\n",
        "  if DATASET == 'mnist':\n",
        "    norm = plt.Normalize(vmin=image.reshape((img_rows, img_cols)).min(), vmax=image.reshape((img_rows, img_cols)).max())\n",
        "    # map the normalized data to colors\n",
        "    # image is now RGBA (512x512x4) \n",
        "    _image = cmap(norm(image.reshape((img_rows, img_cols))))\n",
        "    # Save with predicted label for image (may not be adversarial due to uint8 conversion)\n",
        "    plt.imsave(os.path.join(\"/content/drive/MyDrive/Thesis_notebooks/keras_boundary_attack/images\", folder,\"{}_{}.png\".format(id_no, label)), _image)\n",
        "\n",
        "  else:\n",
        "    plt.figure(figsize=(3,3))\n",
        "    _image = (1/(2*1.050000000745058)) * image + 0.35\n",
        "    print(np.max(image))\n",
        "    plt.imsave(os.path.join(\"/content/drive/MyDrive/Thesis_notebooks/keras_boundary_attack/images\", folder,\"{}_{}.png\".format(id_no, label)),_image.reshape(img_rows, img_cols, channels))"
      ]
    },
    {
      "cell_type": "code",
      "execution_count": 25,
      "metadata": {
        "id": "_jmenDb_zV_y"
      },
      "outputs": [],
      "source": [
        "def clip_eps(tensor, eps):\n",
        "\t# clip the values of the tensor to a given range and return it\n",
        "\treturn tf.clip_by_value(tensor, clip_value_min=-eps,clip_value_max=eps)"
      ]
    },
    {
      "cell_type": "code",
      "execution_count": 26,
      "metadata": {
        "id": "gsomeZ_Py1N1"
      },
      "outputs": [],
      "source": [
        "EPS = 2 / 255.0\n",
        "LR = 0.1\n",
        "optimizer = Adam(learning_rate=LR)\n",
        "sccLoss = SparseCategoricalCrossentropy()\n",
        "losses_per_image = []"
      ]
    },
    {
      "cell_type": "code",
      "execution_count": 27,
      "metadata": {
        "id": "StqHmufbv_WI"
      },
      "outputs": [],
      "source": [
        "def generate_adversaries(model, baseImage, label, epochs=50):\n",
        "  \n",
        "  # iterate over the number of steps\n",
        "  for step in range(0, epochs):\n",
        "    baseImage = tf.cast(baseImage, tf.float32)\n",
        "    delta = tf.Variable(tf.zeros_like(baseImage), trainable=True)\n",
        "    # explicitly indicate that our perturbation vector should\n",
        " \t\t# be tracked for gradient updates\n",
        "    with tf.GradientTape() as tape:\n",
        "      tape.watch(baseImage)\n",
        "      # add our perturbation vector to the base image\n",
        "      adversary = baseImage + delta\n",
        "      # run this newly constructed image tensor through our\n",
        " \t\t\t# model and calculate the loss\n",
        "      pred = model(adversary)\n",
        "      loss = tf.keras.losses.MSE(label, pred)\n",
        "      # if step % 5 == 0:\n",
        "      #    print(\"step: {}, loss: {}...\".format(step,loss[0])) \n",
        "\n",
        "    # update the weights, clip the perturbation vector, and\n",
        " \t\t# update its value\n",
        "    gradients = tape.gradient(loss, baseImage)\n",
        "    delta.assign_add(clip_eps(delta, eps = EPS))\n",
        "    optimizer.apply_gradients([(gradients,delta)])\n",
        "    signed_grad = tf.sign(gradients)\n",
        "\n",
        "  losses_per_image.append(loss[0])\n",
        "  return signed_grad\n"
      ]
    },
    {
      "cell_type": "code",
      "execution_count": 28,
      "metadata": {
        "id": "D3RgxGLIXbfv"
      },
      "outputs": [],
      "source": [
        "# Adversarial data generator\n",
        "def generate_adversarials(model, batch_size):\n",
        "    while True:\n",
        "        x = []\n",
        "        y = []\n",
        "        true_images = []\n",
        "        for batch in range(batch_size):\n",
        "            N = random.randint(0, 100)\n",
        "\n",
        "            label = y_train[N]\n",
        "            image = x_train[N]\n",
        "            true_images.append(image)\n",
        "\n",
        "            perturbations = generate_adversaries(model, image.reshape((1, img_rows, img_cols, channels)), label).numpy()\n",
        "            \n",
        "            \n",
        "            epsilon = 0.1\n",
        "            adversarial = image + perturbations * epsilon\n",
        "            \n",
        "            x.append(adversarial)\n",
        "            y.append(y_train[N])\n",
        "        \n",
        "        \n",
        "        x = np.asarray(x).reshape((batch_size, img_rows, img_cols, channels))\n",
        "        y = np.asarray(y)\n",
        "        true_images = np.asarray(true_images).reshape((batch_size, img_rows, img_cols, channels))\n",
        "        \n",
        "        yield x, y, true_images"
      ]
    },
    {
      "cell_type": "code",
      "source": [
        "from tensorflow.keras.losses import MSE\n",
        "\n",
        "def generate_image_adversary(model, image, label, eps=2 / 255.0):\n",
        "\t# cast the image\n",
        "\timage = tf.cast(image, tf.float32)\n",
        "\t# record our gradients\n",
        "\twith tf.GradientTape() as tape:\n",
        "\t\t# explicitly indicate that our image should be tacked for\n",
        "\t\t# gradient updates\n",
        "\t\ttape.watch(image)\n",
        "\t\t# use our model to make predictions on the input image and\n",
        "\t\t# then compute the loss\n",
        "\t\tpred = model(image)\n",
        "\t\tloss = MSE(label, pred)\n",
        "\t# calculate the gradients of loss with respect to the image, then\n",
        "\t# compute the sign of the gradient\n",
        "\tgradient = tape.gradient(loss, image)\n",
        "\tsignedGrad = tf.sign(gradient)\n",
        "\t# construct the image adversary\n",
        "\tadversary = (image + (signedGrad * eps)).numpy()\n",
        "\t# return the image adversary to the calling function\n",
        "\treturn adversary"
      ],
      "metadata": {
        "id": "JGUEhQpzvGai"
      },
      "execution_count": 35,
      "outputs": []
    },
    {
      "cell_type": "code",
      "source": [
        "def generate_adversarial_batch(model, total, images, labels, dims,eps=0.01):\n",
        "\t# unpack the image dimensions into convenience variables\n",
        "  (h, w, c) = dims\n",
        "  while True:\n",
        "      # initialize our perturbed images and labels\n",
        "    perturbImages = []\n",
        "    perturbLabels = []\n",
        "      # randomly sample indexes (without replacement) from the\n",
        "      # input data\n",
        "    idxs = np.random.choice(range(0, len(images)), size=total,replace=False)\n",
        "  \t\t# loop over the indexes\n",
        "    for i in idxs:\n",
        "        # grab the current image and label\n",
        "      image = images[i]\n",
        "      label = labels[i]\n",
        "        # generate an adversarial image\n",
        "      adversary = generate_image_adversary(model,image.reshape(1, h, w, c), label, eps=eps)\n",
        "        # update our perturbed images and labels lists\n",
        "      perturbImages.append(adversary.reshape(h, w, c))\n",
        "      perturbLabels.append(label)\n",
        "      # yield the perturbed images and labels\n",
        "    yield (np.array(perturbImages), np.array(perturbLabels))"
      ],
      "metadata": {
        "id": "4u7x6RNeS5Rv"
      },
      "execution_count": 36,
      "outputs": []
    },
    {
      "cell_type": "code",
      "source": [
        "(loss, acc) = model.evaluate(x=x_test, y=y_test, verbose=0)\n",
        "print(\"[INFO] normal testing images:\")\n",
        "print(\"[INFO] loss: {:.4f}, acc: {:.4f}\\n\".format(loss, acc))\n",
        "# generate a set of adversarial from our test set\n",
        "print(\"[INFO] generating adversarial examples with FGSM...\\n\")\n",
        "(advX, advY) = next(generate_adversarial_batch(model, len(x_test),x_test, y_test, (28, 28, 1), eps=0.1))\n",
        "# re-evaluate the model on the adversarial images\n",
        "(loss, acc) = model.evaluate(x=advX, y=advY, verbose=0)\n",
        "print(\"[INFO] adversarial testing images:\")\n",
        "print(\"[INFO] loss: {:.4f}, acc: {:.4f}\\n\".format(loss, acc))"
      ],
      "metadata": {
        "colab": {
          "base_uri": "https://localhost:8080/",
          "height": 445
        },
        "id": "vzobeIIRcsfs",
        "outputId": "3c6b4ecd-7f7a-4569-ef5c-c26c869003f6"
      },
      "execution_count": 37,
      "outputs": [
        {
          "output_type": "stream",
          "name": "stdout",
          "text": [
            "[INFO] normal testing images:\n",
            "[INFO] loss: 0.0445, acc: 0.6737\n",
            "\n",
            "[INFO] generating adversarial examples with FGSM...\n",
            "\n"
          ]
        },
        {
          "output_type": "error",
          "ename": "ValueError",
          "evalue": "ignored",
          "traceback": [
            "\u001b[0;31m---------------------------------------------------------------------------\u001b[0m",
            "\u001b[0;31mValueError\u001b[0m                                Traceback (most recent call last)",
            "\u001b[0;32m<ipython-input-37-51fc65c2094d>\u001b[0m in \u001b[0;36m<module>\u001b[0;34m\u001b[0m\n\u001b[1;32m      4\u001b[0m \u001b[0;31m# generate a set of adversarial from our test set\u001b[0m\u001b[0;34m\u001b[0m\u001b[0;34m\u001b[0m\u001b[0;34m\u001b[0m\u001b[0m\n\u001b[1;32m      5\u001b[0m \u001b[0mprint\u001b[0m\u001b[0;34m(\u001b[0m\u001b[0;34m\"[INFO] generating adversarial examples with FGSM...\\n\"\u001b[0m\u001b[0;34m)\u001b[0m\u001b[0;34m\u001b[0m\u001b[0;34m\u001b[0m\u001b[0m\n\u001b[0;32m----> 6\u001b[0;31m \u001b[0;34m(\u001b[0m\u001b[0madvX\u001b[0m\u001b[0;34m,\u001b[0m \u001b[0madvY\u001b[0m\u001b[0;34m)\u001b[0m \u001b[0;34m=\u001b[0m \u001b[0mnext\u001b[0m\u001b[0;34m(\u001b[0m\u001b[0mgenerate_adversarial_batch\u001b[0m\u001b[0;34m(\u001b[0m\u001b[0mmodel\u001b[0m\u001b[0;34m,\u001b[0m \u001b[0mlen\u001b[0m\u001b[0;34m(\u001b[0m\u001b[0mx_test\u001b[0m\u001b[0;34m)\u001b[0m\u001b[0;34m,\u001b[0m\u001b[0mx_test\u001b[0m\u001b[0;34m,\u001b[0m \u001b[0my_test\u001b[0m\u001b[0;34m,\u001b[0m \u001b[0;34m(\u001b[0m\u001b[0;36m28\u001b[0m\u001b[0;34m,\u001b[0m \u001b[0;36m28\u001b[0m\u001b[0;34m,\u001b[0m \u001b[0;36m1\u001b[0m\u001b[0;34m)\u001b[0m\u001b[0;34m,\u001b[0m \u001b[0meps\u001b[0m\u001b[0;34m=\u001b[0m\u001b[0;36m0.1\u001b[0m\u001b[0;34m)\u001b[0m\u001b[0;34m)\u001b[0m\u001b[0;34m\u001b[0m\u001b[0;34m\u001b[0m\u001b[0m\n\u001b[0m\u001b[1;32m      7\u001b[0m \u001b[0;31m# re-evaluate the model on the adversarial images\u001b[0m\u001b[0;34m\u001b[0m\u001b[0;34m\u001b[0m\u001b[0;34m\u001b[0m\u001b[0m\n\u001b[1;32m      8\u001b[0m \u001b[0;34m(\u001b[0m\u001b[0mloss\u001b[0m\u001b[0;34m,\u001b[0m \u001b[0macc\u001b[0m\u001b[0;34m)\u001b[0m \u001b[0;34m=\u001b[0m \u001b[0mmodel\u001b[0m\u001b[0;34m.\u001b[0m\u001b[0mevaluate\u001b[0m\u001b[0;34m(\u001b[0m\u001b[0mx\u001b[0m\u001b[0;34m=\u001b[0m\u001b[0madvX\u001b[0m\u001b[0;34m,\u001b[0m \u001b[0my\u001b[0m\u001b[0;34m=\u001b[0m\u001b[0madvY\u001b[0m\u001b[0;34m,\u001b[0m \u001b[0mverbose\u001b[0m\u001b[0;34m=\u001b[0m\u001b[0;36m0\u001b[0m\u001b[0;34m)\u001b[0m\u001b[0;34m\u001b[0m\u001b[0;34m\u001b[0m\u001b[0m\n",
            "\u001b[0;32m<ipython-input-36-c3ff577a2ab1>\u001b[0m in \u001b[0;36mgenerate_adversarial_batch\u001b[0;34m(model, total, images, labels, dims, eps)\u001b[0m\n\u001b[1;32m     15\u001b[0m       \u001b[0mlabel\u001b[0m \u001b[0;34m=\u001b[0m \u001b[0mlabels\u001b[0m\u001b[0;34m[\u001b[0m\u001b[0mi\u001b[0m\u001b[0;34m]\u001b[0m\u001b[0;34m\u001b[0m\u001b[0;34m\u001b[0m\u001b[0m\n\u001b[1;32m     16\u001b[0m         \u001b[0;31m# generate an adversarial image\u001b[0m\u001b[0;34m\u001b[0m\u001b[0;34m\u001b[0m\u001b[0;34m\u001b[0m\u001b[0m\n\u001b[0;32m---> 17\u001b[0;31m       \u001b[0madversary\u001b[0m \u001b[0;34m=\u001b[0m \u001b[0mgenerate_image_adversary\u001b[0m\u001b[0;34m(\u001b[0m\u001b[0mmodel\u001b[0m\u001b[0;34m,\u001b[0m\u001b[0mimage\u001b[0m\u001b[0;34m.\u001b[0m\u001b[0mreshape\u001b[0m\u001b[0;34m(\u001b[0m\u001b[0;36m1\u001b[0m\u001b[0;34m,\u001b[0m \u001b[0mh\u001b[0m\u001b[0;34m,\u001b[0m \u001b[0mw\u001b[0m\u001b[0;34m,\u001b[0m \u001b[0mc\u001b[0m\u001b[0;34m)\u001b[0m\u001b[0;34m,\u001b[0m \u001b[0mlabel\u001b[0m\u001b[0;34m,\u001b[0m \u001b[0meps\u001b[0m\u001b[0;34m=\u001b[0m\u001b[0meps\u001b[0m\u001b[0;34m)\u001b[0m\u001b[0;34m\u001b[0m\u001b[0;34m\u001b[0m\u001b[0m\n\u001b[0m\u001b[1;32m     18\u001b[0m         \u001b[0;31m# update our perturbed images and labels lists\u001b[0m\u001b[0;34m\u001b[0m\u001b[0;34m\u001b[0m\u001b[0;34m\u001b[0m\u001b[0m\n\u001b[1;32m     19\u001b[0m       \u001b[0mperturbImages\u001b[0m\u001b[0;34m.\u001b[0m\u001b[0mappend\u001b[0m\u001b[0;34m(\u001b[0m\u001b[0madversary\u001b[0m\u001b[0;34m.\u001b[0m\u001b[0mreshape\u001b[0m\u001b[0;34m(\u001b[0m\u001b[0mh\u001b[0m\u001b[0;34m,\u001b[0m \u001b[0mw\u001b[0m\u001b[0;34m,\u001b[0m \u001b[0mc\u001b[0m\u001b[0;34m)\u001b[0m\u001b[0;34m)\u001b[0m\u001b[0;34m\u001b[0m\u001b[0;34m\u001b[0m\u001b[0m\n",
            "\u001b[0;31mValueError\u001b[0m: cannot reshape array of size 3072 into shape (1,28,28,1)"
          ]
        }
      ]
    },
    {
      "cell_type": "code",
      "source": [
        "# lower the learning rate and re-compile the model (such that we can\n",
        "# fine-tune it on the adversarial images)\n",
        "print(\"[INFO] re-compiling model...\")\n",
        "opt = Adam(lr=1e-4)\n",
        "model.compile(loss=\"categorical_crossentropy\", optimizer=opt,\tmetrics=[\"accuracy\"])\n",
        "# fine-tune our CNN on the adversarial images\n",
        "print(\"[INFO] fine-tuning network on adversarial examples...\")\n",
        "model.fit(advX, advY,\n",
        "\tbatch_size=64,\n",
        "\tepochs=10,\n",
        "\tverbose=1)"
      ],
      "metadata": {
        "id": "zPRsvckqdHX2"
      },
      "execution_count": null,
      "outputs": []
    },
    {
      "cell_type": "code",
      "source": [
        "(loss, acc) = model.evaluate(x=x_test, y=y_test, verbose=0)\n",
        "print(\"\")\n",
        "print(\"[INFO] normal testing images *after* fine-tuning:\")\n",
        "print(\"[INFO] loss: {:.4f}, acc: {:.4f}\\n\".format(loss, acc))\n",
        "# do a final evaluation of the model on the adversarial images\n",
        "(loss, acc) = model.evaluate(x=advX, y=advY, verbose=0)\n",
        "print(\"[INFO] adversarial images *after* fine-tuning:\")\n",
        "print(\"[INFO] loss: {:.4f}, acc: {:.4f}\".format(loss, acc))"
      ],
      "metadata": {
        "id": "gia1kh72dKLx"
      },
      "execution_count": null,
      "outputs": []
    }
  ],
  "metadata": {
    "colab": {
      "collapsed_sections": [],
      "provenance": [],
      "authorship_tag": "ABX9TyMK2Sgs1c5PYYG2DaGUeiTq",
      "include_colab_link": true
    },
    "kernelspec": {
      "display_name": "Python 3",
      "name": "python3"
    },
    "language_info": {
      "name": "python"
    }
  },
  "nbformat": 4,
  "nbformat_minor": 0
}